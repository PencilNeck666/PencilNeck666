{
  "nbformat": 4,
  "nbformat_minor": 0,
  "metadata": {
    "colab": {
      "provenance": [],
      "authorship_tag": "ABX9TyNQvEkl84hPCgA6obDwAPs1",
      "include_colab_link": true
    },
    "kernelspec": {
      "name": "python3",
      "display_name": "Python 3"
    },
    "language_info": {
      "name": "python"
    }
  },
  "cells": [
    {
      "cell_type": "markdown",
      "metadata": {
        "id": "view-in-github",
        "colab_type": "text"
      },
      "source": [
        "<a href=\"https://colab.research.google.com/github/PencilNeck666/PencilNeck666/blob/main/mmmnap.ipynb\" target=\"_parent\"><img src=\"https://colab.research.google.com/assets/colab-badge.svg\" alt=\"Open In Colab\"/></a>"
      ]
    },
    {
      "cell_type": "code",
      "execution_count": null,
      "metadata": {
        "id": "h_2W1Jv7-rTl"
      },
      "outputs": [],
      "source": []
    },
    {
      "source": [
        "\n",
        "!pip install scapy\n",
        "\n",
        "import socket\n",
        "from scapy.all import *\n",
        "\n",
        "# Define the web URL\n",
        "web_url = \"www.example.com\"\n",
        "\n",
        "# Extract the domain name from the URL\n",
        "domain_name = socket.gethostbyname(web_url)\n",
        "\n",
        "# Define the network range based on the domain name\n",
        "network_range = domain_name + \"/24\"\n",
        "\n",
        "# Increase the timeout value\n",
        "timeout_value = 10\n",
        "\n",
        "# Perform the network scan using the sr1() function with a longer timeout\n",
        "results = sr1(ARP(pdst=network_range), timeout=timeout_value)\n",
        "\n",
        "# Check if results were obtained\n",
        "if results is not None:\n",
        "    # Process the results\n",
        "    for result in results:\n",
        "        # Extract the MAC and IP addresses\n",
        "        mac_address = result[ARP].hwsrc\n",
        "        ip_address = result[ARP].psrc\n",
        "\n",
        "        # Print the results\n",
        "        print(f\"MAC: {mac_address}, IP: {ip_address}\")\n",
        "else:\n",
        "    print(\"No responses received from the network scan.\")"
      ],
      "cell_type": "code",
      "metadata": {
        "colab": {
          "base_uri": "https://localhost:8080/"
        },
        "id": "FtJ2Ca_62ZQK",
        "outputId": "7b388731-a68c-46d7-f7b7-d4036069a2a6"
      },
      "execution_count": 2,
      "outputs": [
        {
          "output_type": "stream",
          "name": "stdout",
          "text": [
            "Collecting scapy\n",
            "  Downloading scapy-2.5.0.tar.gz (1.3 MB)\n",
            "\u001b[2K     \u001b[90m━━━━━━━━━━━━━━━━━━━━━━━━━━━━━━━━━━━━━━━━\u001b[0m \u001b[32m1.3/1.3 MB\u001b[0m \u001b[31m6.5 MB/s\u001b[0m eta \u001b[36m0:00:00\u001b[0m\n",
            "\u001b[?25h  Preparing metadata (setup.py) ... \u001b[?25l\u001b[?25hdone\n",
            "Building wheels for collected packages: scapy\n",
            "  Building wheel for scapy (setup.py) ... \u001b[?25l\u001b[?25hdone\n",
            "  Created wheel for scapy: filename=scapy-2.5.0-py2.py3-none-any.whl size=1444327 sha256=7b71621dd1c823d18a8d4be8eb624d001ea1d3331c25e777a9e981f77974cc7f\n",
            "  Stored in directory: /root/.cache/pip/wheels/82/b7/03/8344d8cf6695624746311bc0d389e9d05535ca83c35f90241d\n",
            "Successfully built scapy\n",
            "Installing collected packages: scapy\n",
            "Successfully installed scapy-2.5.0\n",
            "Begin emission:\n",
            "Finished sending 256 packets.\n",
            "\n",
            "Received 21 packets, got 0 answers, remaining 256 packets\n",
            "No responses received from the network scan.\n"
          ]
        }
      ]
    }
  ]
}