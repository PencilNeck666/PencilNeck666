{
  "nbformat": 4,
  "nbformat_minor": 0,
  "metadata": {
    "colab": {
      "provenance": [],
      "authorship_tag": "ABX9TyMeP61rWMhxdeRIvb0ARADf",
      "include_colab_link": true
    },
    "kernelspec": {
      "name": "python3",
      "display_name": "Python 3"
    },
    "language_info": {
      "name": "python"
    }
  },
  "cells": [
    {
      "cell_type": "markdown",
      "metadata": {
        "id": "view-in-github",
        "colab_type": "text"
      },
      "source": [
        "<a href=\"https://colab.research.google.com/github/PencilNeck666/PencilNeck666/blob/main/mmmnap.ipynb\" target=\"_parent\"><img src=\"https://colab.research.google.com/assets/colab-badge.svg\" alt=\"Open In Colab\"/></a>"
      ]
    },
    {
      "cell_type": "code",
      "execution_count": null,
      "metadata": {
        "colab": {
          "base_uri": "https://localhost:8080/",
          "height": 431
        },
        "id": "e_8GxK6a10db",
        "outputId": "3de99e79-559b-4615-99a8-ca65f8f59f97"
      },
      "outputs": [
        {
          "output_type": "error",
          "ename": "PortScannerError",
          "evalue": "'nmap program was not found in path. PATH is : /opt/bin:/usr/local/nvidia/bin:/usr/local/cuda/bin:/usr/local/sbin:/usr/local/bin:/usr/sbin:/usr/bin:/sbin:/bin:/tools/node/bin:/tools/google-cloud-sdk/bin'",
          "traceback": [
            "\u001b[0;31m---------------------------------------------------------------------------\u001b[0m",
            "\u001b[0;31mPortScannerError\u001b[0m                          Traceback (most recent call last)",
            "\u001b[0;32m<ipython-input-9-05839e0fb445>\u001b[0m in \u001b[0;36m<cell line: 8>\u001b[0;34m()\u001b[0m\n\u001b[1;32m      6\u001b[0m \u001b[0;34m\u001b[0m\u001b[0m\n\u001b[1;32m      7\u001b[0m \u001b[0;31m# Create an Nmap scanner object\u001b[0m\u001b[0;34m\u001b[0m\u001b[0;34m\u001b[0m\u001b[0m\n\u001b[0;32m----> 8\u001b[0;31m \u001b[0mnm\u001b[0m \u001b[0;34m=\u001b[0m \u001b[0mnmap\u001b[0m\u001b[0;34m.\u001b[0m\u001b[0mPortScanner\u001b[0m\u001b[0;34m(\u001b[0m\u001b[0;34m)\u001b[0m\u001b[0;34m\u001b[0m\u001b[0;34m\u001b[0m\u001b[0m\n\u001b[0m\u001b[1;32m      9\u001b[0m \u001b[0;34m\u001b[0m\u001b[0m\n\u001b[1;32m     10\u001b[0m \u001b[0;31m# Define the scan options\u001b[0m\u001b[0;34m\u001b[0m\u001b[0;34m\u001b[0m\u001b[0m\n",
            "\u001b[0;32m/usr/local/lib/python3.10/dist-packages/nmap/nmap.py\u001b[0m in \u001b[0;36m__init__\u001b[0;34m(self, nmap_search_path)\u001b[0m\n\u001b[1;32m    134\u001b[0m                 \u001b[0;32mbreak\u001b[0m\u001b[0;34m\u001b[0m\u001b[0;34m\u001b[0m\u001b[0m\n\u001b[1;32m    135\u001b[0m         \u001b[0;32melse\u001b[0m\u001b[0;34m:\u001b[0m\u001b[0;34m\u001b[0m\u001b[0;34m\u001b[0m\u001b[0m\n\u001b[0;32m--> 136\u001b[0;31m             raise PortScannerError(\n\u001b[0m\u001b[1;32m    137\u001b[0m                 \u001b[0;34mf\"nmap program was not found in path. PATH is : {os.getenv('PATH')}\"\u001b[0m\u001b[0;34m\u001b[0m\u001b[0;34m\u001b[0m\u001b[0m\n\u001b[1;32m    138\u001b[0m             )\n",
            "\u001b[0;31mPortScannerError\u001b[0m: 'nmap program was not found in path. PATH is : /opt/bin:/usr/local/nvidia/bin:/usr/local/cuda/bin:/usr/local/sbin:/usr/local/bin:/usr/sbin:/usr/bin:/sbin:/bin:/tools/node/bin:/tools/google-cloud-sdk/bin'"
          ]
        }
      ],
      "source": [
        "#!/usr/bin/env python\n",
        "import nmap\n",
        "# Define the target host and port range\n",
        "target = \"192.168.1.1\"\n",
        "port_range = \"1-1024\"\n",
        "\n",
        "# Create an Nmap scanner object\n",
        "nm = nmap.PortScanner()\n",
        "\n",
        "# Define the scan options\n",
        "scan_options = \"-sS -sV -O --script=banner --script-args=banner.allports\"\n",
        "\n",
        "# Perform the scan\n",
        "nm.scan(target, port_range, arguments=scan_options)\n",
        "\n",
        "# Print the scan results\n",
        "for host in nm.all_hosts():\n",
        "    print(\"-----------------------------------\")\n",
        "    print(\"Host:\", host)\n",
        "    print(\"State:\", nm[host].state())\n",
        "\n",
        "    for proto in nm[host].all_protocols():\n",
        "        print(\"-----------------------------------\")\n",
        "        print(\"Protocol:\", proto)\n",
        "\n",
        "        lport = nm[host][proto].keys()\n",
        "        lport.sort()\n",
        "\n",
        "        for port in lport:\n",
        "            print(\"Port:\", port)\n",
        "            print(\"Name:\", nm[host][proto][port]['name'])\n",
        "            print(\"Product:\", nm[host][proto][port]['product'])\n",
        "            print(\"Version:\", nm[host][proto][port]['version'])\n",
        "            print(\"Extrainfo:\", nm[host][proto][port]['extrainfo'])\n",
        "            print(\"CPE:\", nm[host][proto][port]['cpe'])\n",
        "            print(\"Reason:\", nm[host][proto][port]['reason'])\n",
        "\n",
        "            print(\"OS:\", nm[host]['osmatch'][0]['name'])\n",
        "            print(\"OS CPE:\", nm[host]['osmatch'][0]['cpe'])\n",
        "            print(\"OS Accuracy:\", nm[host]['osstats'][0]['confidence'])\n",
        "\n",
        "            print(\"Script Output:\")\n",
        "            for script in nm[host][proto][port]['script']:\n",
        "                print(script['output'])"
      ]
    },
    {
      "source": [
        "import nmap"
      ],
      "cell_type": "code",
      "metadata": {
        "id": "IM6jVcYE4fEs"
      },
      "execution_count": null,
      "outputs": []
    },
    {
      "source": [
        "# Define the target host and port range\n",
        "target = \"192.168.1.1\"\n",
        "port_range = \"1-1024\"\n",
        "\n",
        "# Create an Nmap scanner object\n",
        "nm = nmap.PortScanner()\n",
        "\n",
        "# Define the scan options\n",
        "scan_options = \"-sS -sV -O --script=banner --script-args=banner.allports\"\n",
        "\n",
        "# Perform the scan\n",
        "nm.scan(target, port_range, arguments=scan_options)\n",
        "\n",
        "# Print the scan results\n",
        "for host in nm.all_hosts():\n",
        "    print(\"-----------------------------------\")\n",
        "    print(\"Host:\", host)\n",
        "    print(\"State:\", nm[host].state())\n",
        "\n",
        "    for proto in nm[host].all_protocols():\n",
        "        print(\"-----------------------------------\")\n",
        "        print(\"Protocol:\", proto)\n",
        "\n",
        "        lport = nm[host][proto].keys()\n",
        "        lport.sort()\n",
        "\n",
        "        for port in lport:\n",
        "            print(\"Port:\", port)\n",
        "            print(\"Name:\", nm[host][proto][port]['name'])\n",
        "            print(\"Product:\", nm[host][proto][port]['product'])\n",
        "            print(\"Version:\", nm[host][proto][port]['version'])\n",
        "            print(\"Extrainfo:\", nm[host][proto][port]['extrainfo'])\n",
        "            print(\"CPE:\", nm[host][proto][port]['cpe'])\n",
        "            print(\"Reason:\", nm[host][proto][port]['reason'])\n",
        "\n",
        "            print(\"OS:\", nm[host]['osmatch'][0]['name'])\n",
        "            print(\"OS CPE:\", nm[host]['osmatch'][0]['cpe'])\n",
        "            print(\"OS Accuracy:\", nm[host]['osstats'][0]['confidence'])\n",
        "\n",
        "            print(\"Script Output:\")\n",
        "            for script in nm[host][proto][port]['script']:\n",
        "                print(script['output'])"
      ],
      "cell_type": "code",
      "metadata": {
        "colab": {
          "base_uri": "https://localhost:8080/",
          "height": 431
        },
        "id": "ERXpGVZg4hTX",
        "outputId": "3e7760aa-b78b-4b6e-cfc4-c59de8c55e08"
      },
      "execution_count": null,
      "outputs": [
        {
          "output_type": "error",
          "ename": "PortScannerError",
          "evalue": "'nmap program was not found in path. PATH is : /opt/bin:/usr/local/nvidia/bin:/usr/local/cuda/bin:/usr/local/sbin:/usr/local/bin:/usr/sbin:/usr/bin:/sbin:/bin:/tools/node/bin:/tools/google-cloud-sdk/bin'",
          "traceback": [
            "\u001b[0;31m---------------------------------------------------------------------------\u001b[0m",
            "\u001b[0;31mPortScannerError\u001b[0m                          Traceback (most recent call last)",
            "\u001b[0;32m<ipython-input-11-41bab2fa44ab>\u001b[0m in \u001b[0;36m<cell line: 6>\u001b[0;34m()\u001b[0m\n\u001b[1;32m      4\u001b[0m \u001b[0;34m\u001b[0m\u001b[0m\n\u001b[1;32m      5\u001b[0m \u001b[0;31m# Create an Nmap scanner object\u001b[0m\u001b[0;34m\u001b[0m\u001b[0;34m\u001b[0m\u001b[0m\n\u001b[0;32m----> 6\u001b[0;31m \u001b[0mnm\u001b[0m \u001b[0;34m=\u001b[0m \u001b[0mnmap\u001b[0m\u001b[0;34m.\u001b[0m\u001b[0mPortScanner\u001b[0m\u001b[0;34m(\u001b[0m\u001b[0;34m)\u001b[0m\u001b[0;34m\u001b[0m\u001b[0;34m\u001b[0m\u001b[0m\n\u001b[0m\u001b[1;32m      7\u001b[0m \u001b[0;34m\u001b[0m\u001b[0m\n\u001b[1;32m      8\u001b[0m \u001b[0;31m# Define the scan options\u001b[0m\u001b[0;34m\u001b[0m\u001b[0;34m\u001b[0m\u001b[0m\n",
            "\u001b[0;32m/usr/local/lib/python3.10/dist-packages/nmap/nmap.py\u001b[0m in \u001b[0;36m__init__\u001b[0;34m(self, nmap_search_path)\u001b[0m\n\u001b[1;32m    134\u001b[0m                 \u001b[0;32mbreak\u001b[0m\u001b[0;34m\u001b[0m\u001b[0;34m\u001b[0m\u001b[0m\n\u001b[1;32m    135\u001b[0m         \u001b[0;32melse\u001b[0m\u001b[0;34m:\u001b[0m\u001b[0;34m\u001b[0m\u001b[0;34m\u001b[0m\u001b[0m\n\u001b[0;32m--> 136\u001b[0;31m             raise PortScannerError(\n\u001b[0m\u001b[1;32m    137\u001b[0m                 \u001b[0;34mf\"nmap program was not found in path. PATH is : {os.getenv('PATH')}\"\u001b[0m\u001b[0;34m\u001b[0m\u001b[0;34m\u001b[0m\u001b[0m\n\u001b[1;32m    138\u001b[0m             )\n",
            "\u001b[0;31mPortScannerError\u001b[0m: 'nmap program was not found in path. PATH is : /opt/bin:/usr/local/nvidia/bin:/usr/local/cuda/bin:/usr/local/sbin:/usr/local/bin:/usr/sbin:/usr/bin:/sbin:/bin:/tools/node/bin:/tools/google-cloud-sdk/bin'"
          ]
        }
      ]
    },
    {
      "source": [
        "import nmap\n",
        "\n",
        "# Define the target host and port range\n",
        "target = \"192.168.1.1\"\n",
        "port_range = \"1-1024\"\n",
        "\n",
        "# Create an Nmap scanner object\n",
        "nm = nmap.PortScanner()\n",
        "\n",
        "# Define the scan options\n",
        "scan_options = \"-sS -sV -O --script=banner --script-args=banner.allports\"\n",
        "\n",
        "# Perform the scan\n",
        "nm.scan(target, port_range, arguments=scan_options)\n",
        "\n",
        "# Print the scan results\n",
        "for host in nm.all_hosts():\n",
        "    print(\"-----------------------------------\")\n",
        "    print(\"Host:\", host)\n",
        "    print(\"State:\", nm[host].state())\n",
        "\n",
        "    for proto in nm[host].all_protocols():\n",
        "        print(\"-----------------------------------\")\n",
        "        print(\"Protocol:\", proto)\n",
        "\n",
        "        lport = nm[host][proto].keys()\n",
        "        lport.sort()\n",
        "\n",
        "        for port in lport:\n",
        "            print(\"Port:\", port)\n",
        "            print(\"Name:\", nm[host][proto][port]['name'])\n",
        "            print(\"Product:\", nm[host][proto][port]['product'])\n",
        "            print(\"Version:\", nm[host][proto][port]['version'])\n",
        "            print(\"Extrainfo:\", nm[host][proto][port]['extrainfo'])\n",
        "            print(\"CPE:\", nm[host][proto][port]['cpe'])\n",
        "            print(\"Reason:\", nm[host][proto][port]['reason'])\n",
        "\n",
        "            print(\"OS:\", nm[host]['osmatch'][0]['name'])\n",
        "            print(\"OS CPE:\", nm[host]['osmatch'][0]['cpe'])\n",
        "            print(\"OS Accuracy:\", nm[host]['osstats'][0]['confidence'])\n",
        "\n",
        "            print(\"Script Output:\")\n",
        "            for script in nm[host][proto][port]['script']:\n",
        "                print(script['output'])"
      ],
      "cell_type": "code",
      "metadata": {
        "colab": {
          "base_uri": "https://localhost:8080/",
          "height": 431
        },
        "id": "hr-mJBJ85CJj",
        "outputId": "90bdb9fc-0153-4531-efbe-271af68d9c52"
      },
      "execution_count": null,
      "outputs": [
        {
          "output_type": "error",
          "ename": "PortScannerError",
          "evalue": "'nmap program was not found in path. PATH is : /opt/bin:/usr/local/nvidia/bin:/usr/local/cuda/bin:/usr/local/sbin:/usr/local/bin:/usr/sbin:/usr/bin:/sbin:/bin:/tools/node/bin:/tools/google-cloud-sdk/bin'",
          "traceback": [
            "\u001b[0;31m---------------------------------------------------------------------------\u001b[0m",
            "\u001b[0;31mPortScannerError\u001b[0m                          Traceback (most recent call last)",
            "\u001b[0;32m<ipython-input-14-e6986e43dc8c>\u001b[0m in \u001b[0;36m<cell line: 8>\u001b[0;34m()\u001b[0m\n\u001b[1;32m      6\u001b[0m \u001b[0;34m\u001b[0m\u001b[0m\n\u001b[1;32m      7\u001b[0m \u001b[0;31m# Create an Nmap scanner object\u001b[0m\u001b[0;34m\u001b[0m\u001b[0;34m\u001b[0m\u001b[0m\n\u001b[0;32m----> 8\u001b[0;31m \u001b[0mnm\u001b[0m \u001b[0;34m=\u001b[0m \u001b[0mnmap\u001b[0m\u001b[0;34m.\u001b[0m\u001b[0mPortScanner\u001b[0m\u001b[0;34m(\u001b[0m\u001b[0;34m)\u001b[0m\u001b[0;34m\u001b[0m\u001b[0;34m\u001b[0m\u001b[0m\n\u001b[0m\u001b[1;32m      9\u001b[0m \u001b[0;34m\u001b[0m\u001b[0m\n\u001b[1;32m     10\u001b[0m \u001b[0;31m# Define the scan options\u001b[0m\u001b[0;34m\u001b[0m\u001b[0;34m\u001b[0m\u001b[0m\n",
            "\u001b[0;32m/usr/local/lib/python3.10/dist-packages/nmap/nmap.py\u001b[0m in \u001b[0;36m__init__\u001b[0;34m(self, nmap_search_path)\u001b[0m\n\u001b[1;32m    134\u001b[0m                 \u001b[0;32mbreak\u001b[0m\u001b[0;34m\u001b[0m\u001b[0;34m\u001b[0m\u001b[0m\n\u001b[1;32m    135\u001b[0m         \u001b[0;32melse\u001b[0m\u001b[0;34m:\u001b[0m\u001b[0;34m\u001b[0m\u001b[0;34m\u001b[0m\u001b[0m\n\u001b[0;32m--> 136\u001b[0;31m             raise PortScannerError(\n\u001b[0m\u001b[1;32m    137\u001b[0m                 \u001b[0;34mf\"nmap program was not found in path. PATH is : {os.getenv('PATH')}\"\u001b[0m\u001b[0;34m\u001b[0m\u001b[0;34m\u001b[0m\u001b[0m\n\u001b[1;32m    138\u001b[0m             )\n",
            "\u001b[0;31mPortScannerError\u001b[0m: 'nmap program was not found in path. PATH is : /opt/bin:/usr/local/nvidia/bin:/usr/local/cuda/bin:/usr/local/sbin:/usr/local/bin:/usr/sbin:/usr/bin:/sbin:/bin:/tools/node/bin:/tools/google-cloud-sdk/bin'"
          ]
        }
      ]
    },
    {
      "source": [
        "import nmap"
      ],
      "cell_type": "code",
      "metadata": {
        "id": "6MafP3Dc5JcT"
      },
      "execution_count": null,
      "outputs": []
    },
    {
      "source": [
        "!pip install python-nmap"
      ],
      "cell_type": "code",
      "metadata": {
        "colab": {
          "base_uri": "https://localhost:8080/"
        },
        "id": "qh_NkDFn37as",
        "outputId": "c09c0639-5461-44b5-b8cf-03dc344816d4"
      },
      "execution_count": null,
      "outputs": [
        {
          "output_type": "stream",
          "name": "stdout",
          "text": [
            "Collecting python-nmap\n",
            "  Downloading python-nmap-0.7.1.tar.gz (44 kB)\n",
            "\u001b[?25l     \u001b[90m━━━━━━━━━━━━━━━━━━━━━━━━━━━━━━━━━━━━━━━━\u001b[0m \u001b[32m0.0/44.4 kB\u001b[0m \u001b[31m?\u001b[0m eta \u001b[36m-:--:--\u001b[0m\r\u001b[2K     \u001b[90m━━━━━━━━━━━━━━━━━━━━━━━━━━━━━━━━━━━━━━━━\u001b[0m \u001b[32m44.4/44.4 kB\u001b[0m \u001b[31m1.5 MB/s\u001b[0m eta \u001b[36m0:00:00\u001b[0m\n",
            "\u001b[?25h  Preparing metadata (setup.py) ... \u001b[?25l\u001b[?25hdone\n",
            "Building wheels for collected packages: python-nmap\n",
            "  Building wheel for python-nmap (setup.py) ... \u001b[?25l\u001b[?25hdone\n",
            "  Created wheel for python-nmap: filename=python_nmap-0.7.1-py2.py3-none-any.whl size=20633 sha256=5486a0384cecbf341b308035511ad1a54101a731f327bb8764be3b0adb943dde\n",
            "  Stored in directory: /root/.cache/pip/wheels/da/bd/c6/0342ac886d4deb8d166a3191eb2566f738c5b1574cb0a8cd62\n",
            "Successfully built python-nmap\n",
            "Installing collected packages: python-nmap\n",
            "Successfully installed python-nmap-0.7.1\n"
          ]
        }
      ]
    },
    {
      "cell_type": "code",
      "source": [],
      "metadata": {
        "id": "V_AgHRAp2F95"
      },
      "execution_count": null,
      "outputs": []
    }
  ]
}